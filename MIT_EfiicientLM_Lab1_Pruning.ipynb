{
  "nbformat": 4,
  "nbformat_minor": 0,
  "metadata": {
    "colab": {
      "provenance": []
    },
    "kernelspec": {
      "name": "python3",
      "display_name": "Python 3"
    },
    "language_info": {
      "name": "python"
    }
  },
  "cells": [
    {
      "cell_type": "markdown",
      "source": [
        "# Lab 1 - Pruning\n",
        "## Goals\n",
        "- Understand the basic concept of pruning\n",
        "- Implement and apply **Fine-grained Pruning**\n",
        "- Implement and apply **chanel Pruning**\n",
        "- Get a basis understanding of performance improvement(such as speedup)from pruning\n",
        "- Understand the difference and tradeoffs between these pruning approaches.\n",
        "\n"
      ],
      "metadata": {
        "id": "p92LmbC8LwJ_"
      }
    },
    {
      "cell_type": "markdown",
      "source": [
        "## Contents.\n",
        "### Two main sections: Fine-grained Pruning and Chaneel Pruning.\n",
        "\n",
        "There are 9 questions in total:  \n",
        "\n",
        "- For Fine-grained Pruning, there are 5 questions (Question 1-5).  \n",
        "- For Channel Pruning, there are 3 questions (Question 6-8).  \n",
        "- Question 9 compares fine-grained pruning and channel pruning.\n"
      ],
      "metadata": {
        "id": "7C8d1JI0M0aD"
      }
    },
    {
      "cell_type": "markdown",
      "source": [
        "## Setup\n",
        "Install the required packages and download the datasets and pretrained mdoel.    \n",
        "\n",
        "use CIFAR10 and VGG network"
      ],
      "metadata": {
        "id": "9_gypUiCNMEn"
      }
    },
    {
      "cell_type": "code",
      "source": [
        "print('Installing torchprofile...')\n",
        "!pip install torchprofile 1>/dev/null\n",
        "print('All required packages have been successfully installed!')"
      ],
      "metadata": {
        "colab": {
          "base_uri": "https://localhost:8080/"
        },
        "id": "TpEPvrhlNdx5",
        "outputId": "c5bbb9ea-a80a-4043-d69e-6e15d571aabc"
      },
      "execution_count": 1,
      "outputs": [
        {
          "output_type": "stream",
          "name": "stdout",
          "text": [
            "Installing torchprofile...\n",
            "All required packages have been successfully installed!\n"
          ]
        }
      ]
    },
    {
      "cell_type": "code",
      "source": [],
      "metadata": {
        "id": "79FY1XjqNmFQ"
      },
      "execution_count": null,
      "outputs": []
    }
  ]
}