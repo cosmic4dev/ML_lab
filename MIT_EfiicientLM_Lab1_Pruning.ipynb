{
  "nbformat": 4,
  "nbformat_minor": 0,
  "metadata": {
    "colab": {
      "provenance": [],
      "machine_shape": "hm",
      "gpuType": "T4"
    },
    "kernelspec": {
      "name": "python3",
      "display_name": "Python 3"
    },
    "language_info": {
      "name": "python"
    },
    "accelerator": "GPU",
    "widgets": {
      "application/vnd.jupyter.widget-state+json": {
        "e4471e4443414652b18cb742a939ac02": {
          "model_module": "@jupyter-widgets/controls",
          "model_name": "HBoxModel",
          "model_module_version": "1.5.0",
          "state": {
            "_dom_classes": [],
            "_model_module": "@jupyter-widgets/controls",
            "_model_module_version": "1.5.0",
            "_model_name": "HBoxModel",
            "_view_count": null,
            "_view_module": "@jupyter-widgets/controls",
            "_view_module_version": "1.5.0",
            "_view_name": "HBoxView",
            "box_style": "",
            "children": [
              "IPY_MODEL_cbde3b92dbbb48a2bb9b01951e706dc9",
              "IPY_MODEL_8ced2e425ec84d899e6b665d315155b6",
              "IPY_MODEL_c9ae9f5260d640fd9310ee7a1d836519"
            ],
            "layout": "IPY_MODEL_70b7b37d572a49678744603f9f8261d8"
          }
        },
        "cbde3b92dbbb48a2bb9b01951e706dc9": {
          "model_module": "@jupyter-widgets/controls",
          "model_name": "HTMLModel",
          "model_module_version": "1.5.0",
          "state": {
            "_dom_classes": [],
            "_model_module": "@jupyter-widgets/controls",
            "_model_module_version": "1.5.0",
            "_model_name": "HTMLModel",
            "_view_count": null,
            "_view_module": "@jupyter-widgets/controls",
            "_view_module_version": "1.5.0",
            "_view_name": "HTMLView",
            "description": "",
            "description_tooltip": null,
            "layout": "IPY_MODEL_a3000989182e4f25b79476f5e8c165f0",
            "placeholder": "​",
            "style": "IPY_MODEL_5a25829cc4a941abb1f1a13d19102898",
            "value": "eval:  95%"
          }
        },
        "8ced2e425ec84d899e6b665d315155b6": {
          "model_module": "@jupyter-widgets/controls",
          "model_name": "FloatProgressModel",
          "model_module_version": "1.5.0",
          "state": {
            "_dom_classes": [],
            "_model_module": "@jupyter-widgets/controls",
            "_model_module_version": "1.5.0",
            "_model_name": "FloatProgressModel",
            "_view_count": null,
            "_view_module": "@jupyter-widgets/controls",
            "_view_module_version": "1.5.0",
            "_view_name": "ProgressView",
            "bar_style": "",
            "description": "",
            "description_tooltip": null,
            "layout": "IPY_MODEL_5e9e934c77224053b24266dcdb326d2b",
            "max": 20,
            "min": 0,
            "orientation": "horizontal",
            "style": "IPY_MODEL_a6a313fc29404cbb88491fcf09fdfcb2",
            "value": 20
          }
        },
        "c9ae9f5260d640fd9310ee7a1d836519": {
          "model_module": "@jupyter-widgets/controls",
          "model_name": "HTMLModel",
          "model_module_version": "1.5.0",
          "state": {
            "_dom_classes": [],
            "_model_module": "@jupyter-widgets/controls",
            "_model_module_version": "1.5.0",
            "_model_name": "HTMLModel",
            "_view_count": null,
            "_view_module": "@jupyter-widgets/controls",
            "_view_module_version": "1.5.0",
            "_view_name": "HTMLView",
            "description": "",
            "description_tooltip": null,
            "layout": "IPY_MODEL_3c1dd95b87f24ef69e727736988dfeb8",
            "placeholder": "​",
            "style": "IPY_MODEL_7fbe74c566c049c9a03a7a97e8efa0bb",
            "value": " 19/20 [00:02&lt;00:00, 13.23it/s]"
          }
        },
        "70b7b37d572a49678744603f9f8261d8": {
          "model_module": "@jupyter-widgets/base",
          "model_name": "LayoutModel",
          "model_module_version": "1.2.0",
          "state": {
            "_model_module": "@jupyter-widgets/base",
            "_model_module_version": "1.2.0",
            "_model_name": "LayoutModel",
            "_view_count": null,
            "_view_module": "@jupyter-widgets/base",
            "_view_module_version": "1.2.0",
            "_view_name": "LayoutView",
            "align_content": null,
            "align_items": null,
            "align_self": null,
            "border": null,
            "bottom": null,
            "display": null,
            "flex": null,
            "flex_flow": null,
            "grid_area": null,
            "grid_auto_columns": null,
            "grid_auto_flow": null,
            "grid_auto_rows": null,
            "grid_column": null,
            "grid_gap": null,
            "grid_row": null,
            "grid_template_areas": null,
            "grid_template_columns": null,
            "grid_template_rows": null,
            "height": null,
            "justify_content": null,
            "justify_items": null,
            "left": null,
            "margin": null,
            "max_height": null,
            "max_width": null,
            "min_height": null,
            "min_width": null,
            "object_fit": null,
            "object_position": null,
            "order": null,
            "overflow": null,
            "overflow_x": null,
            "overflow_y": null,
            "padding": null,
            "right": null,
            "top": null,
            "visibility": "hidden",
            "width": null
          }
        },
        "a3000989182e4f25b79476f5e8c165f0": {
          "model_module": "@jupyter-widgets/base",
          "model_name": "LayoutModel",
          "model_module_version": "1.2.0",
          "state": {
            "_model_module": "@jupyter-widgets/base",
            "_model_module_version": "1.2.0",
            "_model_name": "LayoutModel",
            "_view_count": null,
            "_view_module": "@jupyter-widgets/base",
            "_view_module_version": "1.2.0",
            "_view_name": "LayoutView",
            "align_content": null,
            "align_items": null,
            "align_self": null,
            "border": null,
            "bottom": null,
            "display": null,
            "flex": null,
            "flex_flow": null,
            "grid_area": null,
            "grid_auto_columns": null,
            "grid_auto_flow": null,
            "grid_auto_rows": null,
            "grid_column": null,
            "grid_gap": null,
            "grid_row": null,
            "grid_template_areas": null,
            "grid_template_columns": null,
            "grid_template_rows": null,
            "height": null,
            "justify_content": null,
            "justify_items": null,
            "left": null,
            "margin": null,
            "max_height": null,
            "max_width": null,
            "min_height": null,
            "min_width": null,
            "object_fit": null,
            "object_position": null,
            "order": null,
            "overflow": null,
            "overflow_x": null,
            "overflow_y": null,
            "padding": null,
            "right": null,
            "top": null,
            "visibility": null,
            "width": null
          }
        },
        "5a25829cc4a941abb1f1a13d19102898": {
          "model_module": "@jupyter-widgets/controls",
          "model_name": "DescriptionStyleModel",
          "model_module_version": "1.5.0",
          "state": {
            "_model_module": "@jupyter-widgets/controls",
            "_model_module_version": "1.5.0",
            "_model_name": "DescriptionStyleModel",
            "_view_count": null,
            "_view_module": "@jupyter-widgets/base",
            "_view_module_version": "1.2.0",
            "_view_name": "StyleView",
            "description_width": ""
          }
        },
        "5e9e934c77224053b24266dcdb326d2b": {
          "model_module": "@jupyter-widgets/base",
          "model_name": "LayoutModel",
          "model_module_version": "1.2.0",
          "state": {
            "_model_module": "@jupyter-widgets/base",
            "_model_module_version": "1.2.0",
            "_model_name": "LayoutModel",
            "_view_count": null,
            "_view_module": "@jupyter-widgets/base",
            "_view_module_version": "1.2.0",
            "_view_name": "LayoutView",
            "align_content": null,
            "align_items": null,
            "align_self": null,
            "border": null,
            "bottom": null,
            "display": null,
            "flex": null,
            "flex_flow": null,
            "grid_area": null,
            "grid_auto_columns": null,
            "grid_auto_flow": null,
            "grid_auto_rows": null,
            "grid_column": null,
            "grid_gap": null,
            "grid_row": null,
            "grid_template_areas": null,
            "grid_template_columns": null,
            "grid_template_rows": null,
            "height": null,
            "justify_content": null,
            "justify_items": null,
            "left": null,
            "margin": null,
            "max_height": null,
            "max_width": null,
            "min_height": null,
            "min_width": null,
            "object_fit": null,
            "object_position": null,
            "order": null,
            "overflow": null,
            "overflow_x": null,
            "overflow_y": null,
            "padding": null,
            "right": null,
            "top": null,
            "visibility": null,
            "width": null
          }
        },
        "a6a313fc29404cbb88491fcf09fdfcb2": {
          "model_module": "@jupyter-widgets/controls",
          "model_name": "ProgressStyleModel",
          "model_module_version": "1.5.0",
          "state": {
            "_model_module": "@jupyter-widgets/controls",
            "_model_module_version": "1.5.0",
            "_model_name": "ProgressStyleModel",
            "_view_count": null,
            "_view_module": "@jupyter-widgets/base",
            "_view_module_version": "1.2.0",
            "_view_name": "StyleView",
            "bar_color": null,
            "description_width": ""
          }
        },
        "3c1dd95b87f24ef69e727736988dfeb8": {
          "model_module": "@jupyter-widgets/base",
          "model_name": "LayoutModel",
          "model_module_version": "1.2.0",
          "state": {
            "_model_module": "@jupyter-widgets/base",
            "_model_module_version": "1.2.0",
            "_model_name": "LayoutModel",
            "_view_count": null,
            "_view_module": "@jupyter-widgets/base",
            "_view_module_version": "1.2.0",
            "_view_name": "LayoutView",
            "align_content": null,
            "align_items": null,
            "align_self": null,
            "border": null,
            "bottom": null,
            "display": null,
            "flex": null,
            "flex_flow": null,
            "grid_area": null,
            "grid_auto_columns": null,
            "grid_auto_flow": null,
            "grid_auto_rows": null,
            "grid_column": null,
            "grid_gap": null,
            "grid_row": null,
            "grid_template_areas": null,
            "grid_template_columns": null,
            "grid_template_rows": null,
            "height": null,
            "justify_content": null,
            "justify_items": null,
            "left": null,
            "margin": null,
            "max_height": null,
            "max_width": null,
            "min_height": null,
            "min_width": null,
            "object_fit": null,
            "object_position": null,
            "order": null,
            "overflow": null,
            "overflow_x": null,
            "overflow_y": null,
            "padding": null,
            "right": null,
            "top": null,
            "visibility": null,
            "width": null
          }
        },
        "7fbe74c566c049c9a03a7a97e8efa0bb": {
          "model_module": "@jupyter-widgets/controls",
          "model_name": "DescriptionStyleModel",
          "model_module_version": "1.5.0",
          "state": {
            "_model_module": "@jupyter-widgets/controls",
            "_model_module_version": "1.5.0",
            "_model_name": "DescriptionStyleModel",
            "_view_count": null,
            "_view_module": "@jupyter-widgets/base",
            "_view_module_version": "1.2.0",
            "_view_name": "StyleView",
            "description_width": ""
          }
        }
      }
    }
  },
  "cells": [
    {
      "cell_type": "markdown",
      "source": [
        "# Lab 1 - Pruning\n",
        "## Goals\n",
        "- Understand the basic concept of pruning\n",
        "- Implement and apply **Fine-grained Pruning**\n",
        "- Implement and apply **chanel Pruning**\n",
        "- Get a basis understanding of performance improvement(such as speedup)from pruning\n",
        "- Understand the difference and tradeoffs between these pruning approaches.\n",
        "\n"
      ],
      "metadata": {
        "id": "p92LmbC8LwJ_"
      }
    },
    {
      "cell_type": "markdown",
      "source": [
        "## Contents.\n",
        "### Two main sections: Fine-grained Pruning and Chaneel Pruning.\n",
        "\n",
        "There are 9 questions in total:  \n",
        "\n",
        "- For Fine-grained Pruning, there are 5 questions (Question 1-5).  \n",
        "- For Channel Pruning, there are 3 questions (Question 6-8).  \n",
        "- Question 9 compares fine-grained pruning and channel pruning.\n"
      ],
      "metadata": {
        "id": "7C8d1JI0M0aD"
      }
    },
    {
      "cell_type": "markdown",
      "source": [
        "## Setup\n",
        "Install the required packages and download the datasets and pretrained mdoel.    \n",
        "\n",
        "use CIFAR10 and VGG network"
      ],
      "metadata": {
        "id": "9_gypUiCNMEn"
      }
    },
    {
      "cell_type": "code",
      "source": [
        "print('Installing torchprofile...')\n",
        "!pip install torchprofile 1>/dev/null\n",
        "print('All required packages have been successfully installed!')"
      ],
      "metadata": {
        "colab": {
          "base_uri": "https://localhost:8080/"
        },
        "id": "TpEPvrhlNdx5",
        "outputId": "b9589a19-3636-4f8f-87fb-d9c04ec15db2"
      },
      "execution_count": null,
      "outputs": [
        {
          "output_type": "stream",
          "name": "stdout",
          "text": [
            "Installing torchprofile...\n",
            "All required packages have been successfully installed!\n"
          ]
        }
      ]
    },
    {
      "cell_type": "code",
      "source": [
        "import copy\n",
        "import math\n",
        "import random\n",
        "import time\n",
        "from collections import OrderedDict, defaultdict\n",
        "from typing import Union, List\n",
        "\n",
        "import numpy as np\n",
        "import torch\n",
        "from matplotlib import pyplot as plt\n",
        "from torch import nn\n",
        "from torch.optim import *\n",
        "from torch.optim.lr_scheduler import *\n",
        "from torch.utils.data import DataLoader\n",
        "from torchprofile import profile_macs\n",
        "from torchvision.datasets import *\n",
        "from torchvision.transforms import *\n",
        "from tqdm.auto import tqdm\n",
        "\n",
        "from torchprofile import profile_macs\n",
        "\n",
        "# assert torch.cuda.is_available(), \\\n",
        "# \"The current runtime does not have CUDA support.\" \\\n",
        "# \"Please go to menu bar (Runtime - Change runtime type) and select GPU\""
      ],
      "metadata": {
        "id": "79FY1XjqNmFQ"
      },
      "execution_count": null,
      "outputs": []
    },
    {
      "cell_type": "code",
      "source": [
        "random.seed(0)\n",
        "np.random.seed(0)\n",
        "torch.manual_seed(0)"
      ],
      "metadata": {
        "colab": {
          "base_uri": "https://localhost:8080/"
        },
        "id": "ZB512e8MO-pX",
        "outputId": "5347b2f6-bb0d-49c7-fc47-a774a803ab2e"
      },
      "execution_count": null,
      "outputs": [
        {
          "output_type": "execute_result",
          "data": {
            "text/plain": [
              "<torch._C.Generator at 0x7992100fa070>"
            ]
          },
          "metadata": {},
          "execution_count": 3
        }
      ]
    },
    {
      "cell_type": "code",
      "source": [
        "def download_url(url, model_dir='.', overwrite=False):\n",
        "    import os, sys, ssl\n",
        "    from urllib.request import urlretrieve\n",
        "    ssl._create_default_https_context = ssl._create_unverified_context\n",
        "    target_dir = url.split('/')[-1]\n",
        "    model_dir = os.path.expanduser(model_dir)\n",
        "    try:\n",
        "        if not os.path.exists(model_dir):\n",
        "            os.makedirs(model_dir)\n",
        "        model_dir = os.path.join(model_dir, target_dir)\n",
        "        cached_file = model_dir\n",
        "        if not os.path.exists(cached_file) or overwrite:\n",
        "            sys.stderr.write('Downloading: \"{}\" to {}\\n'.format(url, cached_file))\n",
        "            urlretrieve(url, cached_file)\n",
        "        return cached_file\n",
        "    except Exception as e:\n",
        "        # remove lock file so download can be executed next time.\n",
        "        os.remove(os.path.join(model_dir, 'download.lock'))\n",
        "        sys.stderr.write('Failed to download from url %s' % url + '\\n' + str(e) + '\\n')\n",
        "        return None\n"
      ],
      "metadata": {
        "id": "AWu0fuG-PGOk"
      },
      "execution_count": null,
      "outputs": []
    },
    {
      "cell_type": "code",
      "source": [
        "class VGG(nn.Module):\n",
        "  ARCH = [64, 128, 'M', 256, 256, 'M', 512, 512, 'M', 512, 512, 'M']\n",
        "\n",
        "  def __init__(self) -> None:\n",
        "    super().__init__()\n",
        "\n",
        "    layers = []\n",
        "    counts = defaultdict(int)\n",
        "\n",
        "    def add(name: str, layer: nn.Module) -> None:\n",
        "      layers.append((f\"{name}{counts[name]}\", layer))\n",
        "      counts[name] += 1\n",
        "\n",
        "    in_channels = 3\n",
        "    for x in self.ARCH:\n",
        "      if x != 'M':\n",
        "        # conv-bn-relu\n",
        "        add(\"conv\", nn.Conv2d(in_channels, x, 3, padding=1, bias=False))\n",
        "        add(\"bn\", nn.BatchNorm2d(x))\n",
        "        add(\"relu\", nn.ReLU(True))\n",
        "        in_channels = x\n",
        "      else:\n",
        "        # maxpool\n",
        "        add(\"pool\", nn.MaxPool2d(2))\n",
        "\n",
        "    self.backbone = nn.Sequential(OrderedDict(layers))\n",
        "    self.classifier = nn.Linear(512, 10)\n",
        "\n",
        "  def forward(self, x: torch.Tensor) -> torch.Tensor:\n",
        "    # backbone: [N, 3, 32, 32] => [N, 512, 2, 2]\n",
        "    x = self.backbone(x)\n",
        "\n",
        "    # avgpool: [N, 512, 2, 2] => [N, 512]\n",
        "    x = x.mean([2, 3])\n",
        "\n",
        "    # classifier: [N, 512] => [N, 10]\n",
        "    x = self.classifier(x)\n",
        "    return x"
      ],
      "metadata": {
        "id": "p2ezyhmbPKfp"
      },
      "execution_count": null,
      "outputs": []
    },
    {
      "cell_type": "code",
      "source": [
        "def train(\n",
        "  model: nn.Module,\n",
        "  dataloader: DataLoader,\n",
        "  criterion: nn.Module,\n",
        "  optimizer: Optimizer,\n",
        "  scheduler: LambdaLR,\n",
        "  callbacks = None\n",
        ") -> None:\n",
        "  model.train()\n",
        "\n",
        "  for inputs, targets in tqdm(dataloader, desc='train', leave=False):\n",
        "    # Move the data from CPU to GPU\n",
        "    inputs = inputs.cuda()\n",
        "    targets = targets.cuda()\n",
        "\n",
        "    # Reset the gradients (from the last iteration)\n",
        "    optimizer.zero_grad()\n",
        "\n",
        "    # Forward inference\n",
        "    outputs = model(inputs)\n",
        "    loss = criterion(outputs, targets)\n",
        "\n",
        "    # Backward propagation\n",
        "    loss.backward()\n",
        "\n",
        "    # Update optimizer and LR scheduler\n",
        "    optimizer.step()\n",
        "    scheduler.step()\n",
        "\n",
        "    if callbacks is not None:\n",
        "        for callback in callbacks:\n",
        "            callback()"
      ],
      "metadata": {
        "id": "hy54BjzKPXD2"
      },
      "execution_count": null,
      "outputs": []
    },
    {
      "cell_type": "code",
      "source": [
        "@torch.inference_mode()\n",
        "def evaluate(\n",
        "  model: nn.Module,\n",
        "  dataloader: DataLoader,\n",
        "  verbose=True,\n",
        ") -> float:\n",
        "  model.eval()\n",
        "\n",
        "  num_samples = 0\n",
        "  num_correct = 0\n",
        "\n",
        "  for inputs, targets in tqdm(dataloader, desc=\"eval\", leave=False,\n",
        "                              disable=not verbose):\n",
        "    # Move the data from CPU to GPU\n",
        "    inputs = inputs.cuda()\n",
        "    targets = targets.cuda()\n",
        "\n",
        "    # Inference\n",
        "    outputs = model(inputs)\n",
        "\n",
        "    # Convert logits to class indices\n",
        "    outputs = outputs.argmax(dim=1)\n",
        "\n",
        "    # Update metrics\n",
        "    num_samples += targets.size(0)\n",
        "    num_correct += (outputs == targets).sum()\n",
        "\n",
        "  return (num_correct / num_samples * 100).item()"
      ],
      "metadata": {
        "id": "96q3FgF3PjSZ"
      },
      "execution_count": null,
      "outputs": []
    },
    {
      "cell_type": "markdown",
      "source": [
        "Helper Functions (Flops, Model Size calculation, etc.)"
      ],
      "metadata": {
        "id": "JL6YqlM2P3L5"
      }
    },
    {
      "cell_type": "code",
      "source": [
        "def get_model_macs(model, inputs) -> int:\n",
        "    return profile_macs(model, inputs)\n",
        "\n",
        "\n",
        "def get_sparsity(tensor: torch.Tensor) -> float:\n",
        "    \"\"\"\n",
        "    calculate the sparsity of the given tensor\n",
        "        sparsity = #zeros / #elements = 1 - #nonzeros / #elements\n",
        "    \"\"\"\n",
        "    return 1 - float(tensor.count_nonzero()) / tensor.numel()\n",
        "\n",
        "\n",
        "def get_model_sparsity(model: nn.Module) -> float:\n",
        "    \"\"\"\n",
        "    calculate the sparsity of the given model\n",
        "        sparsity = #zeros / #elements = 1 - #nonzeros / #elements\n",
        "    \"\"\"\n",
        "    num_nonzeros, num_elements = 0, 0\n",
        "    for param in model.parameters():\n",
        "        num_nonzeros += param.count_nonzero()\n",
        "        num_elements += param.numel()\n",
        "    return 1 - float(num_nonzeros) / num_elements\n",
        "\n",
        "def get_num_parameters(model: nn.Module, count_nonzero_only=False) -> int:\n",
        "    \"\"\"\n",
        "    calculate the total number of parameters of model\n",
        "    :param count_nonzero_only: only count nonzero weights\n",
        "    \"\"\"\n",
        "    num_counted_elements = 0\n",
        "    for param in model.parameters():\n",
        "        if count_nonzero_only:\n",
        "            num_counted_elements += param.count_nonzero()\n",
        "        else:\n",
        "            num_counted_elements += param.numel()\n",
        "    return num_counted_elements\n",
        "\n",
        "\n",
        "def get_model_size(model: nn.Module, data_width=32, count_nonzero_only=False) -> int:\n",
        "    \"\"\"\n",
        "    calculate the model size in bits\n",
        "    :param data_width: #bits per element\n",
        "    :param count_nonzero_only: only count nonzero weights\n",
        "    \"\"\"\n",
        "    return get_num_parameters(model, count_nonzero_only) * data_width\n",
        "\n",
        "Byte = 8\n",
        "KiB = 1024 * Byte\n",
        "MiB = 1024 * KiB\n",
        "GiB = 1024 * MiB"
      ],
      "metadata": {
        "id": "MWXjdrS2P3rJ"
      },
      "execution_count": null,
      "outputs": []
    },
    {
      "cell_type": "markdown",
      "source": [
        "**Define misc Functions for verification.**\n"
      ],
      "metadata": {
        "id": "Pi_QmAcoP_XX"
      }
    },
    {
      "cell_type": "code",
      "source": [
        "def test_fine_grained_prune(\n",
        "    test_tensor=torch.tensor([[-0.46, -0.40, 0.39, 0.19, 0.37],\n",
        "                              [0.00, 0.40, 0.17, -0.15, 0.16],\n",
        "                              [-0.20, -0.23, 0.36, 0.25, 0.03],\n",
        "                              [0.24, 0.41, 0.07, 0.13, -0.15],\n",
        "                              [0.48, -0.09, -0.36, 0.12, 0.45]]),\n",
        "    test_mask=torch.tensor([[True, True, False, False, False],\n",
        "                            [False, True, False, False, False],\n",
        "                            [False, False, False, False, False],\n",
        "                            [False, True, False, False, False],\n",
        "                            [True, False, False, False, True]]),\n",
        "    target_sparsity=0.75, target_nonzeros=None):\n",
        "    def plot_matrix(tensor, ax, title):\n",
        "        ax.imshow(tensor.cpu().numpy() == 0, vmin=0, vmax=1, cmap='tab20c')\n",
        "        ax.set_title(title)\n",
        "        ax.set_yticklabels([])\n",
        "        ax.set_xticklabels([])\n",
        "        for i in range(tensor.shape[1]):\n",
        "            for j in range(tensor.shape[0]):\n",
        "                text = ax.text(j, i, f'{tensor[i, j].item():.2f}',\n",
        "                                ha=\"center\", va=\"center\", color=\"k\")\n",
        "\n",
        "    test_tensor = test_tensor.clone()\n",
        "    fig, axes = plt.subplots(1,2, figsize=(6, 10))\n",
        "    ax_left, ax_right = axes.ravel()\n",
        "    plot_matrix(test_tensor, ax_left, 'dense tensor')\n",
        "\n",
        "    sparsity_before_pruning = get_sparsity(test_tensor)\n",
        "    mask = fine_grained_prune(test_tensor, target_sparsity)\n",
        "    sparsity_after_pruning = get_sparsity(test_tensor)\n",
        "    sparsity_of_mask = get_sparsity(mask)\n",
        "\n",
        "    plot_matrix(test_tensor, ax_right, 'sparse tensor')\n",
        "    fig.tight_layout()\n",
        "    plt.show()\n",
        "\n",
        "    print('* Test fine_grained_prune()')\n",
        "    print(f'    target sparsity: {target_sparsity:.2f}')\n",
        "    print(f'        sparsity before pruning: {sparsity_before_pruning:.2f}')\n",
        "    print(f'        sparsity after pruning: {sparsity_after_pruning:.2f}')\n",
        "    print(f'        sparsity of pruning mask: {sparsity_of_mask:.2f}')\n",
        "\n",
        "    if target_nonzeros is None:\n",
        "        if test_mask.equal(mask):\n",
        "            print('* Test passed.')\n",
        "        else:\n",
        "            print('* Test failed.')\n",
        "    else:\n",
        "        if mask.count_nonzero() == target_nonzeros:\n",
        "            print('* Test passed.')\n",
        "        else:\n",
        "            print('* Test failed.')"
      ],
      "metadata": {
        "id": "8Q0q5v_rQFNQ"
      },
      "execution_count": null,
      "outputs": []
    },
    {
      "cell_type": "markdown",
      "source": [
        "\n",
        "Load the pre-trained model and the CIFAR-10 dataset."
      ],
      "metadata": {
        "id": "JSdkNqgjRoB8"
      }
    },
    {
      "cell_type": "code",
      "source": [
        "# Before running next code, I fixed colab option(Ensure GPU is Enabled in Colab)\n",
        "checkpoint_url = \"https://hanlab18.mit.edu/files/course/labs/vgg.cifar.pretrained.pth\"\n",
        "checkpoint = torch.load(download_url(checkpoint_url), map_location=\"cpu\")\n",
        "model = VGG().cuda() # Now this should work\n",
        "print(f\"=> loading checkpoint '{checkpoint_url}'\")\n",
        "model.load_state_dict(checkpoint['state_dict'])\n",
        "recover_model = lambda: model.load_state_dict(checkpoint['state_dict'])"
      ],
      "metadata": {
        "colab": {
          "base_uri": "https://localhost:8080/"
        },
        "id": "dqZmGQnTRvuq",
        "outputId": "eb9a2d8a-eccf-4218-8448-6e721b55a74a"
      },
      "execution_count": null,
      "outputs": [
        {
          "output_type": "stream",
          "name": "stderr",
          "text": [
            "Downloading: \"https://hanlab18.mit.edu/files/course/labs/vgg.cifar.pretrained.pth\" to ./vgg.cifar.pretrained.pth\n"
          ]
        },
        {
          "output_type": "stream",
          "name": "stdout",
          "text": [
            "=> loading checkpoint 'https://hanlab18.mit.edu/files/course/labs/vgg.cifar.pretrained.pth'\n"
          ]
        }
      ]
    },
    {
      "cell_type": "code",
      "source": [
        "image_size = 32\n",
        "transforms = {\n",
        "    \"train\": Compose([\n",
        "        RandomCrop(image_size, padding=4),\n",
        "        RandomHorizontalFlip(),\n",
        "        ToTensor(),\n",
        "    ]),\n",
        "    \"test\": ToTensor(),\n",
        "}\n",
        "dataset = {}\n",
        "for split in [\"train\", \"test\"]:\n",
        "  dataset[split] = CIFAR10(\n",
        "    root=\"data/cifar10\",\n",
        "    train=(split == \"train\"),\n",
        "    download=True,\n",
        "    transform=transforms[split],\n",
        "  )\n",
        "dataloader = {}\n",
        "for split in ['train', 'test']:\n",
        "  dataloader[split] = DataLoader(\n",
        "    dataset[split],\n",
        "    batch_size=512,\n",
        "    shuffle=(split == 'train'),\n",
        "    num_workers=0,\n",
        "    pin_memory=True,\n",
        "  )\n"
      ],
      "metadata": {
        "colab": {
          "base_uri": "https://localhost:8080/"
        },
        "id": "oQGafzq-RyzA",
        "outputId": "6d9bd927-8195-4b39-ae3d-f429aa3e5041"
      },
      "execution_count": null,
      "outputs": [
        {
          "output_type": "stream",
          "name": "stdout",
          "text": [
            "Downloading https://www.cs.toronto.edu/~kriz/cifar-10-python.tar.gz to data/cifar10/cifar-10-python.tar.gz\n"
          ]
        },
        {
          "output_type": "stream",
          "name": "stderr",
          "text": [
            "100%|██████████| 170498071/170498071 [00:13<00:00, 13061166.70it/s]\n"
          ]
        },
        {
          "output_type": "stream",
          "name": "stdout",
          "text": [
            "Extracting data/cifar10/cifar-10-python.tar.gz to data/cifar10\n",
            "Files already downloaded and verified\n"
          ]
        }
      ]
    },
    {
      "cell_type": "markdown",
      "source": [
        "## First Evaluate the Accuracy and Model Size of Dense Model\n",
        "\n",
        "\n",
        "Neural networks have become ubiquitous in many applications.   \n",
        "\n"
      ],
      "metadata": {
        "id": "PRu4B0gbVQ9i"
      }
    },
    {
      "cell_type": "code",
      "source": [
        "dense_model_accuracy = evaluate(model, dataloader['test'])\n",
        "dense_model_size = get_model_size(model)\n",
        "print(f\"dense model has accuracy={dense_model_accuracy:.2f}%\")\n",
        "print(f\"dense model has size={dense_model_size/MiB:.2f} MiB\")"
      ],
      "metadata": {
        "colab": {
          "base_uri": "https://localhost:8080/",
          "height": 52,
          "referenced_widgets": [
            "e4471e4443414652b18cb742a939ac02",
            "cbde3b92dbbb48a2bb9b01951e706dc9",
            "8ced2e425ec84d899e6b665d315155b6",
            "c9ae9f5260d640fd9310ee7a1d836519",
            "70b7b37d572a49678744603f9f8261d8",
            "a3000989182e4f25b79476f5e8c165f0",
            "5a25829cc4a941abb1f1a13d19102898",
            "5e9e934c77224053b24266dcdb326d2b",
            "a6a313fc29404cbb88491fcf09fdfcb2",
            "3c1dd95b87f24ef69e727736988dfeb8",
            "7fbe74c566c049c9a03a7a97e8efa0bb"
          ]
        },
        "id": "zAY7oU8rkIep",
        "outputId": "feb08898-b8ed-475a-c301-0ab4caa2e11b"
      },
      "execution_count": null,
      "outputs": [
        {
          "output_type": "display_data",
          "data": {
            "text/plain": [
              "eval:   0%|          | 0/20 [00:00<?, ?it/s]"
            ],
            "application/vnd.jupyter.widget-view+json": {
              "version_major": 2,
              "version_minor": 0,
              "model_id": "e4471e4443414652b18cb742a939ac02"
            }
          },
          "metadata": {}
        },
        {
          "output_type": "stream",
          "name": "stdout",
          "text": [
            "dense model has accuracy=92.95%\n",
            "dense model has size=35.20 MiB\n"
          ]
        }
      ]
    },
    {
      "cell_type": "markdown",
      "source": [
        "While large neural networks are very powerful, their size consumes considerable storage, memory bandwidth, and computational resources. As we can see from the results above, a model for the task as simple as classifying\n",
        " images into 10 classes can be as large as 35 MiB. For embedded mobile applications, these resource demands become prohibitive.  \n",
        "\n",
        "Therefore, neural network pruning is exploited to facilitates storage and transmission of mobile applications incorporating DNNs.  \n",
        "\n",
        "The goal of pruning is to reduce the model size while maintaining the accuracy.  "
      ],
      "metadata": {
        "id": "oPcLYbpikMka"
      }
    },
    {
      "cell_type": "markdown",
      "source": [
        "## Distribution of weight values\n",
        "\n",
        "see the distribution of weight values in the dense model."
      ],
      "metadata": {
        "id": "uiBh5y4Hk9Xx"
      }
    },
    {
      "cell_type": "code",
      "source": [
        "def plot_weight_distribution(model, bins=256, count_nonzero_only=False):\n",
        "    fig, axes = plt.subplots(3,3, figsize=(10, 6))\n",
        "    axes = axes.ravel()\n",
        "    plot_index = 0\n",
        "    for name, param in model.named_parameters():\n",
        "        if param.dim() > 1:\n",
        "            ax = axes[plot_index]\n",
        "            if count_nonzero_only:\n",
        "                param_cpu = param.detach().view(-1).cpu()\n",
        "                param_cpu = param_cpu[param_cpu != 0].view(-1)\n",
        "                ax.hist(param_cpu, bins=bins, density=True,\n",
        "                        color = 'blue', alpha = 0.5)\n",
        "            else:\n",
        "                ax.hist(param.detach().view(-1).cpu(), bins=bins, density=True,\n",
        "                        color = 'blue', alpha = 0.5)\n",
        "            ax.set_xlabel(name)\n",
        "            ax.set_ylabel('density')\n",
        "            plot_index += 1\n",
        "    fig.suptitle('Histogram of Weights')\n",
        "    fig.tight_layout()\n",
        "    fig.subplots_adjust(top=0.925)\n",
        "    plt.show()\n",
        "\n",
        "plot_weight_distribution(model)"
      ],
      "metadata": {
        "colab": {
          "base_uri": "https://localhost:8080/",
          "height": 500
        },
        "id": "zs91aAzVlN5P",
        "outputId": "2f92f947-173f-405e-bbdc-aae7db3ece92"
      },
      "execution_count": null,
      "outputs": [
        {
          "output_type": "display_data",
          "data": {
            "text/plain": [
              "<Figure size 1000x600 with 9 Axes>"
            ],
            "image/png": "[encoded data removed]"
          },
          "metadata": {}
        }
      ]
    },
    {
      "cell_type": "markdown",
      "source": [
        "### Relationship Between Model Size and Performance:  \n",
        "\n",
        "The graph likely illustrates the relationship between the size of the neural network (in terms of memory usage or the number of parameters) and its performance (accuracy).\n",
        "Generally, as the model size increases, the performance tends to improve, but this also leads to increased storage requirements and computational resources.    \n",
        "\n",
        "\n",
        "### Effect of Pruning:\n",
        "\n",
        "The graph may visualize the changes in model size and performance after applying pruning.  \n",
        "Pruning involves removing unnecessary weights or neurons from the model, which reduces the model's size.  \n",
        "The graph likely compares the model size reduction and the extent to which the performance (accuracy) is maintained before and after pruning.  \n",
        "Ideally, the model size is significantly reduced with minimal impact on accuracy, making the model more efficient for mobile applications.  \n",
        "\n",
        "\n",
        "### Resource Savings:\n",
        "\n",
        "The graph might also show the reduction in storage space, memory bandwidth, and computational resources achieved through pruning.  \n",
        "This highlights the importance of pruning in making neural network models more efficient for execution in mobile and embedded environments.  \n",
        "\n",
        "\n",
        "### Summary:\n",
        "\n",
        "The graph likely provides a visual representation of the effects of pruning on a neural network.\n",
        "Specifically:\n",
        "\n",
        "- Model Size Reduction: It shows how pruning reduces the model's storage space and memory usage.  \n",
        "\n",
        "- Performance Maintenance: It indicates that even with reduced model size, the accuracy or other performance metrics are not significantly degraded.  \n",
        "\n",
        "-  Importance of Resource Savings: It emphasizes how crucial pruning is for efficiently utilizing neural networks in mobile and embedded applications."
      ],
      "metadata": {
        "id": "lNUSnTl5lhxt"
      }
    },
    {
      "cell_type": "markdown",
      "source": [
        "\n",
        "### Question 1 (10 pts).\n",
        "Please answer the following questions using the information in the above histograms of weights.\n",
        "\n",
        "### Question 1.1 (5 pts)\n",
        "What are the common characteristics of the weight distribution in the different layers?\n",
        "\n",
        "Answer:   \n",
        "- Bell-shaped Distribution: Most layers exhibit a bell-shaped distribution, which is symmetric around zero. This indicates that the majority of the weights are centered around zero with fewer weights having large positive or negative values.\n",
        "\n",
        "- High Density Near Zero: The majority of the weights are concentrated near zero, especially in the deeper layers. This suggests that many weights contribute minimally to the output and have low magnitude.\n",
        "\n",
        "- Narrower Distributions in Deeper Layers: As we move to deeper layers (e.g., conv5, conv6, etc.), the weight distributions become narrower, indicating that weights in these layers tend to have smaller magnitudes compared to the earlier layers.\n",
        "\n",
        "### Question 1.2 (5 pts)\n",
        "How do these characteristics help pruning?\n",
        "\n",
        "Answer:\n",
        "- Low-Magnitude Weights: Since many weights are clustered around zero with low magnitude, they contribute little to the network's output. Pruning these low-magnitude weights will likely have a minimal impact on the network's performance, allowing for an effective reduction in model size without substantial accuracy loss.\n",
        "\n",
        "- Redundancy Reduction: The bell-shaped distributions and the concentration of weights around zero suggest that there is redundancy in the network. By pruning weights that are near zero, the network can be simplified while retaining its essential characteristics, thus reducing redundancy.\n",
        "\n",
        "- Efficient Pruning in Deeper Layers: The narrower distributions in deeper layers indicate that these layers have many small weights. Pruning these small weights in deeper layers can lead to a significant reduction in model complexity and computational cost, making the network more efficient, especially for deployment on resource-constrained devices."
      ],
      "metadata": {
        "id": "NSmXzRk0qICe"
      }
    },
    {
      "cell_type": "markdown",
      "source": [
        "\n",
        "## Fine-grained Pruning\n",
        "\n",
        "In this section, we will implement and perform fine-grained pruning.\n",
        "\n",
        "Fine-grained pruning removes the synapses with lowest importance. The weight tensor\n",
        " will become sparse after fine-grained pruning, which can be described with sparsity:\n",
        "\n",
        "\n",
        "> 인용구 추가\n",
        "sparsity := #Zeros/#𝑊  = 1 - #Nonzeros/#𝑊\n",
        "\n",
        "\n",
        "where #𝑊 is the number of elements in 𝑊\n",
        ".\n"
      ],
      "metadata": {
        "id": "X4hA7vYBsLkS"
      }
    },
    {
      "cell_type": "markdown",
      "source": [
        "\n",
        "Question 2 (15 pts)\n",
        "Please complete the following magnitude-based fine-grained pruning function.\n",
        "\n",
        "Hint:\n",
        "\n",
        "In step 1, we calculate the number of zeros (num_zeros) after pruning. Note that num_zeros should be an integer. You could use either round() or int() to convert a floating number into an integer. Here we use round().\n",
        "In step 2, we calculate the importance of weight tensor. Pytorch provides torch.abs(), torch.Tensor.abs(), torch.Tensor.abs_() APIs.\n",
        "In step 3, we calculate the pruning threshold so that all synapses with importance smaller than threshold will be removed. Pytorch provides torch.kthvalue(), torch.Tensor.kthvalue(), torch.topk() APIs.\n",
        "In step 4, we calculate the pruning mask based on the threshold. 1 in the mask indicates the synapse will be kept, and 0 in the mask indicates the synapse will be removed. mask = importance > threshold. Pytorch provides torch.gt() API."
      ],
      "metadata": {
        "id": "fVlRv7arPQTt"
      }
    },
    {
      "cell_type": "code",
      "source": [
        "# my answer\n",
        "import torch\n",
        "\n",
        "def magnitude_based_pruning(weight_tensor, pruning_ratio):\n",
        "    # Step 1: Calculate number of zeros (num_zeros) after pruning\n",
        "    total_elements = weight_tensor.numel()  # Total number of elements in the tensor\n",
        "    num_zeros = round(total_elements * pruning_ratio)  # Calculate the number of elements to prune\n",
        "\n",
        "    # Step 2: Calculate the importance of weight tensor\n",
        "    importance = torch.abs(weight_tensor)  # Calculate the absolute value (importance) of the weights\n",
        "\n",
        "    # Step 3: Calculate the pruning threshold\n",
        "    threshold, _ = torch.kthvalue(importance.view(-1), num_zeros)  # Find the kth smallest value as threshold\n",
        "\n",
        "    # Step 4: Calculate the pruning mask\n",
        "    mask = torch.gt(importance, threshold)  # Create a mask where values greater than threshold are 1, else 0\n",
        "\n",
        "    return mask\n",
        "\n",
        "# Example usage\n",
        "weight_tensor = torch.randn(10, 10)  # Randomly initialized weight tensor\n",
        "pruning_ratio = 0.2  # Prune 20% of the smallest weights\n",
        "pruning_mask = magnitude_based_pruning(weight_tensor, pruning_ratio)\n",
        "\n",
        "# Apply the mask to the weight tensor\n",
        "pruned_weights = weight_tensor * pruning_mask.float()\n",
        "print(pruned_weights)\n"
      ],
      "metadata": {
        "colab": {
          "base_uri": "https://localhost:8080/"
        },
        "id": "9vdie6tHP-2t",
        "outputId": "f9ec4b87-2bcb-413e-eb9d-743452174bd1"
      },
      "execution_count": 15,
      "outputs": [
        {
          "output_type": "stream",
          "name": "stdout",
          "text": [
            "tensor([[-1.9627, -0.4790,  1.4107,  0.6427, -1.5467,  0.5543, -0.0000,  0.9749,\n",
            "         -0.4754, -1.7334],\n",
            "        [ 0.7497,  0.2540,  0.0000,  0.4518,  0.8193, -0.7732, -3.0466, -0.5341,\n",
            "         -0.0000, -0.0000],\n",
            "        [ 0.0000, -0.2561, -2.7803, -0.0000, -0.9816,  1.4136,  1.2822,  0.6004,\n",
            "         -0.8012,  0.4735],\n",
            "        [ 0.0000, -1.8666, -0.2660, -0.6449,  1.2855, -0.3003,  0.3616,  0.6189,\n",
            "          0.0000, -0.6955],\n",
            "        [-0.7694, -0.0000,  1.0057,  0.0000, -0.2667, -1.5331,  0.0000, -1.3969,\n",
            "          0.0000, -0.3719],\n",
            "        [-0.5229, -0.0000,  1.4460, -1.8527, -1.6546, -1.0696,  1.5767,  1.3989,\n",
            "          2.3169,  1.4592],\n",
            "        [ 1.9733,  1.5031,  1.9382, -2.1709, -1.0943,  1.8956,  0.0000, -1.0226,\n",
            "          2.2261,  0.9608],\n",
            "        [-1.7479,  1.3509, -0.5676, -0.3286, -0.7472,  1.4895, -0.6621, -0.3486,\n",
            "          1.6783,  0.0000],\n",
            "        [-0.0000, -0.9389,  1.6502,  0.0000, -0.0000, -0.7475, -0.4527, -1.5233,\n",
            "         -0.3203, -0.4787],\n",
            "        [ 0.0000,  0.3545, -0.3230, -1.4983, -0.0000,  0.9532, -0.2842,  1.5202,\n",
            "          2.0334,  1.2697]])\n"
          ]
        }
      ]
    },
    {
      "cell_type": "code",
      "source": [
        "# suggested answer\n",
        "def fine_grained_prune(tensor: torch.Tensor, sparsity: float) -> torch.Tensor:\n",
        "    \"\"\"\n",
        "    magnitude-based pruning for single tensor\n",
        "    :param tensor: torch.(cuda.)Tensor, weight of conv/fc layer\n",
        "    :param sparsity: float, pruning sparsity\n",
        "        sparsity = #zeros / #elements = 1 - #nonzeros / #elements\n",
        "    :return:\n",
        "        torch.(cuda.)Tensor, mask for zeros\n",
        "    \"\"\"\n",
        "    sparsity = min(max(0.0, sparsity), 1.0)\n",
        "    if sparsity == 1.0:\n",
        "        tensor.zero_()\n",
        "        return torch.zeros_like(tensor)\n",
        "    elif sparsity == 0.0:\n",
        "        return torch.ones_like(tensor)\n",
        "\n",
        "    num_elements = tensor.numel()\n",
        "\n",
        "    ##################### YOUR CODE STARTS HERE #####################\n",
        "    # Step 1: calculate the #zeros (please use round())\n",
        "    num_zeros = round(num_elements * sparsity)\n",
        "    # Step 2: calculate the importance of weight\n",
        "    importance = torch.abs(tensor)\n",
        "    # Step 3: calculate the pruning threshold\n",
        "    threshold = torch.kthvalue(importance.flatten(), num_zeros)[0]\n",
        "    # Step 4: get binary mask (1 for nonzeros, 0 for zeros)\n",
        "    mask = importance > threshold\n",
        "    ##################### YOUR CODE ENDS HERE #######################\n",
        "\n",
        "    # Step 5: apply mask to prune the tensor\n",
        "    tensor.mul_(mask)\n",
        "\n",
        "    return mask"
      ],
      "metadata": {
        "id": "fSFawifGQBUq"
      },
      "execution_count": 16,
      "outputs": []
    },
    {
      "cell_type": "markdown",
      "source": [
        "**verify the functionality of defined fine-grained pruning by applying the function above on a dummy tensor.**"
      ],
      "metadata": {
        "id": "IMrrQ27tQe6I"
      }
    },
    {
      "cell_type": "code",
      "source": [
        "test_fine_grained_prune()"
      ],
      "metadata": {
        "colab": {
          "base_uri": "https://localhost:8080/",
          "height": 440
        },
        "id": "cNigEPBhRJW_",
        "outputId": "2adb5256-8848-4e9a-c71c-8d5b31b58e7e"
      },
      "execution_count": 18,
      "outputs": [
        {
          "output_type": "display_data",
          "data": {
            "text/plain": [
              "<Figure size 600x1000 with 2 Axes>"
            ],
            "image/png": "[encoded data removed]"
          },
          "metadata": {}
        },
        {
          "output_type": "stream",
          "name": "stdout",
          "text": [
            "* Test fine_grained_prune()\n",
            "    target sparsity: 0.75\n",
            "        sparsity before pruning: 0.04\n",
            "        sparsity after pruning: 0.76\n",
            "        sparsity of pruning mask: 0.76\n",
            "* Test passed.\n"
          ]
        }
      ]
    },
    {
      "cell_type": "markdown",
      "source": [
        "# Graph Interpretation\n",
        "1. Dense Tensor (Left)\n",
        "The dense tensor represents the tensor before pruning is applied.\n",
        "This tensor has most of its elements with actual values (non-zero values) distributed throughout.\n",
        "2. Sparse Tensor (Right)\n",
        "The sparse tensor represents the tensor after pruning is applied.\n",
        "In this tensor, many elements have been set to zero, with only a few elements retaining non-zero values.\n",
        "This indicates that pruning has removed the weights with lower importance. Pruning reduces the model size and computational load by eliminating less important weights.\n",
        "Details\n",
        "Sparsity Before Pruning: The sparsity before pruning was 0.04, meaning that approximately 4% of the tensor's elements were zero.\n",
        "Sparsity After Pruning: The sparsity after pruning is 0.76, indicating that 76% of the tensor's elements have been set to zero, showing that a significant number of weights were removed during pruning.\n",
        "Sparsity of Pruning Mask: The sparsity of the pruning mask is also 0.76, meaning the pruning mask was set to remove weights from 76% of the tensor.  \n",
        "\n",
        "### Summary\n",
        "This graph shows how pruning compresses a tensor by setting most of its values to zero, thereby optimizing the model. Pruning is done to save computational resources and optimize the model under the assumption that only certain weights are important, and the rest can be removed. As seen in the graph, many values were eliminated, making the tensor significantly more sparse."
      ],
      "metadata": {
        "id": "udw777ZSRMC1"
      }
    },
    {
      "cell_type": "code",
      "source": [],
      "metadata": {
        "id": "OvEX_Ff1SWe8"
      },
      "execution_count": null,
      "outputs": []
    }
  ]
}